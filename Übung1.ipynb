{
 "cells": [
  {
   "cell_type": "markdown",
   "metadata": {},
   "source": [
    "Baue eine Pipeline, welche Rechtecke um einen oder mehrere Gegenstände im Bild zeichnet.\n",
    "Diese soll analog zur Vorlesung mit Segmentierung umgesetzt werden."
   ]
  },
  {
   "cell_type": "code",
   "execution_count": null,
   "metadata": {
    "vscode": {
     "languageId": "bat"
    }
   },
   "outputs": [],
   "source": [
    "pip install -r requirements.txt"
   ]
  },
  {
   "cell_type": "markdown",
   "metadata": {},
   "source": [
    "Capture image on picam:"
   ]
  },
  {
   "cell_type": "code",
   "execution_count": null,
   "metadata": {
    "vscode": {
     "languageId": "bat"
    }
   },
   "outputs": [],
   "source": [
    "libcamera-hello -t 0\n",
    "!libcamera-jpeg -o test.jpeg"
   ]
  },
  {
   "cell_type": "markdown",
   "metadata": {},
   "source": [
    "Import all required libaries and store image under 'img':"
   ]
  },
  {
   "cell_type": "code",
   "execution_count": null,
   "metadata": {},
   "outputs": [],
   "source": [
    "import matplotlib.pyplot as plt\n",
    "import numpy as np\n",
    "import skimage\n",
    "from support.bounding_boxes import draw_bounding_boxes, create_bounding_boxes\n",
    "img = plt.imread(\"test.jpeg\")"
   ]
  },
  {
   "cell_type": "markdown",
   "metadata": {},
   "source": [
    "All required functions:"
   ]
  },
  {
   "cell_type": "code",
   "execution_count": null,
   "metadata": {},
   "outputs": [],
   "source": [
    "# show image\n",
    "plt.imshow(img)\n",
    "\n",
    "# show plot\n",
    "plt.show()\n",
    "\n",
    "# convert to grayscale\n",
    "skimage.color.rgb2gray(img)\n",
    "\n",
    "# crop image with numpy\n",
    "img[0:100, 0:100]\n",
    "\n",
    "# crop image with skimage\n",
    "skimage.util.crop(img, ((0, 100), (0, 100)))\n",
    "\n",
    "# resize image with skimage\n",
    "skimage.transform.resize(img, (100, 100))\n",
    "\n",
    "# create threshold with numpy\n",
    "img > 0.5\n",
    "\n",
    "# separate image into segments by flooding on same values\n",
    "skimage.measure.label(img)\n",
    "\n",
    "# create bounding box rectangles from an image (own function)\n",
    "rectangles = create_bounding_boxes(img)\n",
    "\n",
    "# draw bounding box rectangles (own function)\n",
    "draw_bounding_boxes(rectangles)"
   ]
  },
  {
   "cell_type": "markdown",
   "metadata": {},
   "source": [
    "Place for code:"
   ]
  },
  {
   "cell_type": "code",
   "execution_count": null,
   "metadata": {},
   "outputs": [],
   "source": []
  }
 ],
 "metadata": {
  "kernelspec": {
   "display_name": "Python 3",
   "language": "python",
   "name": "python3"
  },
  "language_info": {
   "codemirror_mode": {
    "name": "ipython",
    "version": 3
   },
   "file_extension": ".py",
   "mimetype": "text/x-python",
   "name": "python",
   "nbconvert_exporter": "python",
   "pygments_lexer": "ipython3",
   "version": "3.11.3"
  }
 },
 "nbformat": 4,
 "nbformat_minor": 2
}
