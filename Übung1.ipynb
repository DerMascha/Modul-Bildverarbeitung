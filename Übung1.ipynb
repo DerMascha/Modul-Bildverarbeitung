{
 "cells": [
  {
   "cell_type": "markdown",
   "metadata": {},
   "source": [
    "Baue eine Pipeline, welche Rechtecke um einen oder mehrere Gegenstände im Bild zeichnet.\n",
    "Diese darf mit\n",
    "- Sliding Window und Non-Maximum Suppresion\n",
    "- Flooding und Segmentierung\n",
    "\n",
    "umgesetzt werden."
   ]
  },
  {
   "cell_type": "code",
   "execution_count": null,
   "metadata": {
    "vscode": {
     "languageId": "plaintext"
    }
   },
   "outputs": [],
   "source": []
  }
 ],
 "metadata": {
  "language_info": {
   "name": "python"
  }
 },
 "nbformat": 4,
 "nbformat_minor": 2
}
