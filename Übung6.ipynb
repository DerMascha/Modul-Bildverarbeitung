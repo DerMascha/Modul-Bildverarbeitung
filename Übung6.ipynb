{
 "cells": [
  {
   "cell_type": "markdown",
   "metadata": {},
   "source": [
    "Laden der erforderlichen Bibliotheken"
   ]
  },
  {
   "cell_type": "code",
   "execution_count": null,
   "metadata": {},
   "outputs": [],
   "source": [
    "import tensorflow as tf\n",
    "keras = tf.keras\n",
    "from keras import losses, layers, models, metrics, optimizers, callbacks\n",
    "from matplotlib import pyplot as plt\n",
    "import skimage\n",
    "import numpy as np\n",
    "\n",
    "from picamera2 import Picamera2\n",
    "camera = Picamera2()\n",
    "classes = []\n",
    "data = []\n",
    "labels = []"
   ]
  },
  {
   "cell_type": "markdown",
   "metadata": {},
   "source": [
    "Enter name for class"
   ]
  },
  {
   "cell_type": "code",
   "execution_count": null,
   "metadata": {},
   "outputs": [],
   "source": [
    "label = input(\"Class name:\")\n",
    "if label not in classes:\n",
    "    classes.append(label)"
   ]
  },
  {
   "cell_type": "markdown",
   "metadata": {},
   "source": [
    "Capture images for class - use multiple times to capture many images"
   ]
  },
  {
   "cell_type": "code",
   "execution_count": null,
   "metadata": {},
   "outputs": [],
   "source": [
    "camera.start()\n",
    "image = camera.capture_array()\n",
    "camera.stop()\n",
    "# take green channel\n",
    "img = image[:,:,0:3]\n",
    "plt.imshow(img)\n",
    "plt.show()\n",
    "data.append(img)\n",
    "labels.append(classes.index(label))"
   ]
  },
  {
   "cell_type": "markdown",
   "metadata": {},
   "source": [
    "Plot the dataset"
   ]
  },
  {
   "cell_type": "code",
   "execution_count": null,
   "metadata": {},
   "outputs": [],
   "source": [
    "# plot dataset as image matrix\n",
    "fig, axes = plt.subplots(5, len(data) // 5 + 1, figsize=(len(data) // 5 + 3, 7))\n",
    "# flatten axes\n",
    "axes = axes.flatten()\n",
    "for i, ax in enumerate(axes):\n",
    "    if i < len(data):\n",
    "        ax.imshow(data[i])\n",
    "        ax.set_title(classes[labels[i]])\n",
    "    ax.axis('off')\n",
    "plt.show()"
   ]
  },
  {
   "cell_type": "code",
   "execution_count": null,
   "metadata": {},
   "outputs": [],
   "source": [
    "_data = np.stack(data)\n",
    "_labels = np.array(labels)\n",
    "\n",
    "#shuffle data\n",
    "splits = np.random.permutation(len(_data))\n",
    "_data = _data[splits]\n",
    "_labels = _labels[splits]\n",
    "_labels = tf.one_hot(_labels, len(classes))\n",
    "\n",
    "#split into test and train data\n",
    "data_train = _data[:int(len(data) * 0.8)]\n",
    "labels_train = _labels[:int(len(data) * 0.8)]\n",
    "data_test = _data[int(len(data) * 0.8):]\n",
    "labels_test = _labels[int(len(data) * 0.8):]\n",
    "\n",
    "# create a network that can separate the two classes\n",
    "\n",
    "network = models.Sequential([\n",
    "    layers.Conv2D(32, (3, 3), activation='relu', input_shape=(None, None, 3)),\n",
    "    layers.MaxPooling2D((2, 2)),\n",
    "    layers.Conv2D(64, (3, 3), activation='relu'),\n",
    "    layers.MaxPooling2D((2, 2)),\n",
    "    layers.Conv2D(64, (3, 3), activation='relu'),\n",
    "    layers.MaxPooling2D((2, 2)),\n",
    "    layers.Conv2D(64, (3, 3), activation='relu'),\n",
    "    layers.Lambda(tf.reduce_mean, arguments={'axis': [1, 2]}),\n",
    "    layers.Flatten(),\n",
    "    layers.Dropout(0.2),\n",
    "    layers.Dense(64, activation='relu'),\n",
    "    layers.Dropout(0.2),\n",
    "    layers.Dense(2, activation='softmax')\n",
    "])\n",
    "network.summary()\n",
    "network.compile(loss = losses.MeanSquaredError(), metrics=[metrics.CategoricalAccuracy()], optimizer=optimizers.Adam())\n",
    "\n",
    "training = network.fit(data_train, labels_train, epochs=100, batch_size=128, validation_data=(data_test, labels_test), \n",
    "                       callbacks=[callbacks.EarlyStopping(patience=5, monitor='val_loss', restore_best_weights=True)])"
   ]
  },
  {
   "cell_type": "markdown",
   "metadata": {},
   "source": [
    "Plot learning curve"
   ]
  },
  {
   "cell_type": "code",
   "execution_count": null,
   "metadata": {},
   "outputs": [],
   "source": [
    "# show loss and accuracy in twin x plots\n",
    "fig, ax1 = plt.subplots()\n",
    "ax2 = ax1.twinx()\n",
    "ax1.plot(training.history['loss'], label='loss', color='red')\n",
    "ax1.plot(training.history['val_loss'], label='val_loss', color='orange')\n",
    "ax1.set_xlabel('epoch')\n",
    "ax1.set_ylabel('loss')\n",
    "ax1.legend()\n",
    "ax2.plot(training.history['categorical_accuracy'], label='accuracy', color='blue')\t\n",
    "ax2.plot(training.history['val_categorical_accuracy'], label='val_accuracy', color='green')\n",
    "ax2.set_ylabel('accuracy')\n",
    "ax2.legend()\n",
    "plt.show()"
   ]
  },
  {
   "cell_type": "markdown",
   "metadata": {},
   "source": [
    "Test model"
   ]
  },
  {
   "cell_type": "code",
   "execution_count": null,
   "metadata": {},
   "outputs": [],
   "source": [
    "camera.start()\n",
    "image = camera.capture_array()\n",
    "camera.stop()\n",
    "# take green channel\n",
    "img = image[:,:,0:3]\n",
    "plt.imshow(img)\n",
    "plt.show()\n",
    "\n",
    "#invoke network\n",
    "pred = network.predict(np.array([img]))\n",
    "print(classes[np.argmax(pred)])\n",
    "\n",
    "#calculate confidence\n",
    "conf = 1 - tf.reduce_sum(-pred * tf.math.log(pred + 0.0001), axis=-1)\n",
    "print(conf)"
   ]
  }
 ],
 "metadata": {
  "kernelspec": {
   "display_name": "Python 3",
   "language": "python",
   "name": "python3"
  },
  "language_info": {
   "codemirror_mode": {
    "name": "ipython",
    "version": 3
   },
   "file_extension": ".py",
   "mimetype": "text/x-python",
   "name": "python",
   "nbconvert_exporter": "python",
   "pygments_lexer": "ipython3",
   "version": "3.11.3"
  }
 },
 "nbformat": 4,
 "nbformat_minor": 2
}
