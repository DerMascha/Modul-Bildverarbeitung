{
 "cells": [
  {
   "cell_type": "code",
   "execution_count": null,
   "metadata": {},
   "outputs": [],
   "source": [
    "import skimage\n",
    "import numpy as np\n",
    "import numpy.typing as npt\n",
    "from support.bounding_boxes import draw_bounding_boxes, create_bounding_boxes\n",
    "import matplotlib.pyplot as plt\n",
    "from skimage.morphology import dilation, disk"
   ]
  },
  {
   "cell_type": "markdown",
   "metadata": {},
   "source": [
    "Take picture whit camera (insert code from previous lectures):"
   ]
  },
  {
   "cell_type": "code",
   "execution_count": null,
   "metadata": {},
   "outputs": [],
   "source": [
    "# insert your code here to assign an image to 'img'\n",
    "img = ..."
   ]
  },
  {
   "cell_type": "markdown",
   "metadata": {},
   "source": [
    "Define function for color assignment according to the given function definition:"
   ]
  },
  {
   "cell_type": "code",
   "execution_count": null,
   "metadata": {},
   "outputs": [],
   "source": [
    "def assign_label_color(hue: npt.NDArray[float], saturation: npt.NDArray[float]) -> str:\n",
    "    \"\"\"\n",
    "    Assigns a color label based on the hue and saturation values of an image.\n",
    "    Parameters:\n",
    "    hue (npt.NDArray[float]): An array of hue values.\n",
    "    saturation (npt.NDArray[float]): An array of saturation values.\n",
    "    Returns:\n",
    "    str: The assigned color label ('orange', 'yellow', 'green', or 'red').\n",
    "    \"\"\"\n",
    "    # placeholder, insert code here\n",
    "    return \"?\"\n",
    "\n",
    "# scale image\n",
    "img = skimage.transform.resize(img, (300, 400))\n",
    "\n",
    "plt.imshow(img)\n",
    "plt.show()\n",
    "\n",
    "# calculate hue, saturation and value\n",
    "hsv = skimage.color.rgb2hsv(img)\n",
    "\n",
    "hue, s, v = np.transpose(hsv, (2, 0, 1))\n",
    "\n",
    "# mask over saturation, use own threshold\n",
    "mask = s > 0.32\n",
    "mask = dilation(mask, footprint = disk(2))\n",
    "\n",
    "# display images\n",
    "\n",
    "fig, axes = plt.subplots(1, 3, figsize=(15, 5))\n",
    "axes[0].imshow(hue, cmap='hsv')\n",
    "axes[0].imshow(np.where( np.expand_dims(mask, -1), [0,0,0,0], [0,0,0,255]), cmap='gray')\n",
    "\n",
    "axes[1].imshow(s, cmap='gray')\n",
    "\n",
    "axes[2].imshow(v, cmap='gray')\n",
    "plt.show()\n",
    "\n",
    "\n",
    "segmentation = skimage.measure.label(mask, background=0)\n",
    "plt.imshow(segmentation, cmap='tab20')\n",
    "plt.show()\n",
    "\n",
    "rectangles = create_bounding_boxes(segmentation)\n",
    "\n",
    "labels = []\n",
    "for rect in rectangles:\n",
    "    x, y, w, h = rect\n",
    "    hue_rect = hue[y:y+h, x:x+w]\n",
    "    saturation_rect = s[y:y+h, x:x+w]\n",
    "    labels.append(assign_label_color(hue_rect, saturation_rect))\n",
    "\n",
    "draw_bounding_boxes(rectangles, labels)\n",
    "\n",
    "plt.imshow(img, cmap='tab20')\n",
    "plt.show()"
   ]
  }
 ],
 "metadata": {
  "kernelspec": {
   "display_name": "Python 3",
   "language": "python",
   "name": "python3"
  },
  "language_info": {
   "codemirror_mode": {
    "name": "ipython",
    "version": 3
   },
   "file_extension": ".py",
   "mimetype": "text/x-python",
   "name": "python",
   "nbconvert_exporter": "python",
   "pygments_lexer": "ipython3",
   "version": "3.11.3"
  }
 },
 "nbformat": 4,
 "nbformat_minor": 2
}
