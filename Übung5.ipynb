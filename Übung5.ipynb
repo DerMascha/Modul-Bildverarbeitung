{
 "cells": [
  {
   "cell_type": "code",
   "execution_count": null,
   "metadata": {},
   "outputs": [],
   "source": [
    "\n",
    "import tensorflow as tf\n",
    "keras = tf.keras\n",
    "from keras import losses, layers, models, metrics, optimizers\n",
    "from matplotlib import pyplot as plt\n",
    "\n",
    "\n",
    "data = tf.keras.datasets.mnist.load_data(\n",
    "    path='mnist.npz'\n",
    ")\n",
    "\n",
    "train, test = data\n",
    "\n",
    "train_data, train_labels = train\n",
    "test_data, test_labels = test\n",
    "#transform to binary vector of dimension 10\n",
    "train_labels = tf.one_hot(train_labels, 10)\n",
    "test_labels = tf.one_hot(test_labels, 10)\n",
    "\n",
    "# create network\n",
    "network = models.Sequential([\n",
    "    layers.Flatten(input_shape=(28, 28)),\n",
    "    layers.Normalization(),\n",
    "    layers.Dense(128, activation='relu'),\n",
    "    layers.Dense(128, activation='relu'),\n",
    "    layers.Dense(10, activation='softmax')\n",
    "])\n",
    "\n",
    "\n",
    "network.compile(loss = losses.CategoricalCrossentropy(), metrics=[metrics.CategoricalAccuracy()], optimizer=optimizers.SGD(learning_rate=0.01))\n",
    "\n",
    "training = network.fit(train_data, train_labels, epochs=10, batch_size=128, validation_data=(test_data, test_labels))"
   ]
  },
  {
   "cell_type": "markdown",
   "metadata": {},
   "source": [
    "Plotten der Lernkurve"
   ]
  },
  {
   "cell_type": "code",
   "execution_count": null,
   "metadata": {},
   "outputs": [],
   "source": [
    "# show loss and accuracy in twin x plots\n",
    "fig, ax1 = plt.subplots()\n",
    "ax2 = ax1.twinx()\n",
    "ax1.plot(training.history['loss'], label='loss', color='red')\n",
    "ax1.plot(training.history['val_loss'], label='val_loss', color='orange')\n",
    "ax1.set_xlabel('epoch')\n",
    "ax1.set_ylabel('loss')\n",
    "ax1.legend()\n",
    "ax2.plot(training.history['categorical_accuracy'], label='accuracy', color='blue')\t\n",
    "ax2.plot(training.history['val_categorical_accuracy'], label='val_accuracy', color='green')\n",
    "ax2.set_ylabel('accuracy')\n",
    "ax2.legend()\n",
    "plt.show()"
   ]
  },
  {
   "cell_type": "markdown",
   "metadata": {},
   "source": [
    "Anwenden auf eigenes Bild"
   ]
  },
  {
   "cell_type": "code",
   "execution_count": null,
   "metadata": {},
   "outputs": [],
   "source": [
    "# import libraries\n",
    "\n",
    "import skimage\n",
    "import numpy as np\n",
    "import matplotlib.pyplot as plt\n",
    "from skimage import filters, morphology, measure, feature, draw\n",
    "import matplotlib.pyplot as plt\n",
    "from support.bounding_boxes import draw_bounding_boxes, create_bounding_boxes\n",
    "# capture image with picam2\n",
    "from picamera2 import Picamera2\n",
    "camera = Picamera2()"
   ]
  },
  {
   "cell_type": "code",
   "execution_count": null,
   "metadata": {},
   "outputs": [],
   "source": [
    "camera.start()\n",
    "image = camera.capture_array()\n",
    "camera.stop()\n",
    "# take green channel\n",
    "img = image[:,:,1]\n",
    "plt.imshow(image, cmap='gray')\n",
    "plt.show()"
   ]
  },
  {
   "cell_type": "code",
   "execution_count": null,
   "metadata": {},
   "outputs": [],
   "source": [
    "import skimage\n",
    "from support.bounding_boxes import create_bounding_boxes, draw_bounding_boxes\n",
    "\n",
    "\n",
    "\n",
    "plt.imshow(img, cmap='gray')\n",
    "plt.show()\n",
    "\n",
    "# do canny edge\n",
    "edges = skimage.feature.canny(img, sigma=1)\n",
    "plt.imshow(edges, cmap='gray')\n",
    "plt.show()\n",
    "\n",
    "# erosion\n",
    "edges = skimage.morphology.binary_dilation(edges, footprint=np.ones((1,1)))\n",
    "plt.imshow(edges, cmap='gray')\n",
    "plt.show()\n",
    "\n",
    "#label image\n",
    "labels = skimage.measure.label(edges)\n",
    "\n",
    "# create bounding boxes\n",
    "rectangles = create_bounding_boxes(labels, square = True)\n",
    "plt.imshow(img, cmap='gray')\n",
    "draw_bounding_boxes(rectangles)\n",
    "plt.show()\n",
    "assigned_classes = []\n",
    "\n",
    "# create bounding boxes with score\n",
    "for rect in rectangles:\n",
    "    x, y, w, h = rect\n",
    "    # extract patch for rectangle\n",
    "    patch = img[y:y+h, x:x+w]\n",
    "    # resize patch to required size\n",
    "    patch = skimage.transform.resize(patch, (28, 28))\n",
    "    # invert colors\n",
    "    patch = 1. - patch\n",
    "    patch = np.where(patch < 0.5, 0, patch * 2 - 0.5)\n",
    "    # get the network output for the patch\n",
    "    output = network(tf.expand_dims(patch * 255, 0))\n",
    "    print(output)\n",
    "    # get the predicted class\n",
    "    label = np.argmax(output[0])\n",
    "    print(label)\n",
    "    assigned_classes.append(label)\n",
    "\n",
    "plt.imshow(img, cmap='gray')\n",
    "draw_bounding_boxes(rectangles, assigned_classes)\n",
    "plt.show()"
   ]
  }
 ],
 "metadata": {
  "language_info": {
   "name": "python"
  }
 },
 "nbformat": 4,
 "nbformat_minor": 2
}
