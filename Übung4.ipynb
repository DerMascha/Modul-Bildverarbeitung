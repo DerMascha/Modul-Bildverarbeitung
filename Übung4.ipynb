{
 "cells": [
  {
   "cell_type": "code",
   "execution_count": null,
   "metadata": {},
   "outputs": [],
   "source": [
    "# import libraries\n",
    "\n",
    "import skimage\n",
    "import numpy as np\n",
    "import matplotlib.pyplot as plt\n",
    "from skimage import filters, morphology, measure, feature, draw\n",
    "import matplotlib.pyplot as plt\n",
    "from support.bounding_boxes import draw_bounding_boxes, create_bounding_boxes\n",
    "# capture image with picam2\n",
    "from picamera2 import Picamera2\n",
    "camera = Picamera2()"
   ]
  },
  {
   "cell_type": "markdown",
   "metadata": {},
   "source": [
    "Take reference image:"
   ]
  },
  {
   "cell_type": "code",
   "execution_count": null,
   "metadata": {},
   "outputs": [],
   "source": [
    "camera.start()\n",
    "image = camera.capture_array()\n",
    "camera.stop()\n",
    "# take green channel\n",
    "img_ref = image[:,:,1]\n",
    "plt.imshow(image, cmap='gray')\n",
    "plt.show()"
   ]
  },
  {
   "cell_type": "markdown",
   "metadata": {},
   "source": [
    "Take second image:"
   ]
  },
  {
   "cell_type": "code",
   "execution_count": null,
   "metadata": {},
   "outputs": [],
   "source": [
    "camera.start()\n",
    "image = camera.capture_array()\n",
    "camera.stop()\n",
    "# take green channel\n",
    "img_test = image[:,:,1]\n",
    "plt.imshow(image, cmap='gray')\n",
    "plt.show()"
   ]
  },
  {
   "cell_type": "code",
   "execution_count": null,
   "metadata": {},
   "outputs": [],
   "source": [
    "# your code comes here\n",
    "\n",
    "\n",
    "plt.imshow(img_test, cmap='gray')\n",
    "rectangles = create_bounding_boxes(mask)\n",
    "draw_bounding_boxes(rectangles)\n",
    "plt.show()"
   ]
  }
 ],
 "metadata": {
  "kernelspec": {
   "display_name": "Python 3",
   "language": "python",
   "name": "python3"
  },
  "language_info": {
   "name": "python",
   "version": "3.11.3"
  }
 },
 "nbformat": 4,
 "nbformat_minor": 2
}
