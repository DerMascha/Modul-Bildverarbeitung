{
 "cells": [
  {
   "cell_type": "code",
   "execution_count": null,
   "metadata": {
    "vscode": {
     "languageId": "bat"
    }
   },
   "outputs": [],
   "source": [
    "pip install -r requirements.txt"
   ]
  },
  {
   "cell_type": "code",
   "execution_count": null,
   "metadata": {},
   "outputs": [],
   "source": [
    "import skimage\n",
    "import matplotlib.pyplot as plt\n",
    "# little heplper code i wrote to show matrix representation\n",
    "from support import plot\n",
    "\n",
    "#load image\n",
    "img = skimage.io.imread('images/banana.png')\n",
    "plt.imshow(img)"
   ]
  },
  {
   "cell_type": "code",
   "execution_count": null,
   "metadata": {},
   "outputs": [],
   "source": [
    "from skimage import transform\n",
    "# rotate by 45 degrees\n",
    "img_rot = transform.rotate(img, 45)\n",
    "plt.imshow(img_rot)"
   ]
  },
  {
   "cell_type": "code",
   "execution_count": null,
   "metadata": {},
   "outputs": [],
   "source": [
    "# generate 4 images, rotated by 15, 30, 45, 60 degrees\n",
    "\n",
    "img_rot15 = transform.rotate(img, 15)\n",
    "img_rot30 = transform.rotate(img, 30)\n",
    "img_rot45 = transform.rotate(img, 45)\n",
    "img_rot60 = transform.rotate(img, 60)\n",
    "\n",
    "# display the images\n",
    "\n",
    "fig, ax = plt.subplots(1, 4, figsize=(20, 20))\n",
    "ax[0].imshow(img_rot15)\n",
    "ax[1].imshow(img_rot30)\n",
    "ax[2].imshow(img_rot45)\n",
    "ax[3].imshow(img_rot60)"
   ]
  },
  {
   "cell_type": "code",
   "execution_count": null,
   "metadata": {},
   "outputs": [],
   "source": [
    "from skimage import util, transform, graph, filters, color\n",
    "import numpy as np\n",
    "\n",
    "def threshold_image(img, t: float):\n",
    "    return np.where(img > t, 1., 0)\n",
    "\n",
    "#load image\n",
    "img = skimage.io.imread('images/banana.png')[:,:,0:3]\n",
    "img = util.crop(img, ((150, 150), (20, 20), (0, 0)))\n",
    "img = color.rgb2gray(img)\n",
    "img = threshold_image(img, 0.3)\n",
    "plt.imshow(img)\n"
   ]
  },
  {
   "cell_type": "code",
   "execution_count": null,
   "metadata": {},
   "outputs": [],
   "source": [
    "from skimage.util import view_as_windows\n",
    "img = skimage.io.imread('images/banana.png')[:,:,0:3]\n",
    "# Define the scales for the sliding window\n",
    "scales = [(img.shape[0] // 3,img.shape[1] // 3)]\n",
    "\n",
    "# scale image to 1024x1024\n",
    "img = transform.resize(img, (1024, 1024))\n",
    "fig, axes = plt.subplots(len(scales), figsize=(5, 5*len(scales)))\n",
    "\n",
    "# make array if axes is scalar\n",
    "if not hasattr(axes, '__iter__'):\n",
    "    axes = [axes]\n",
    "\n",
    "# iterate over scales\n",
    "for (scale_x, scale_y), ax in zip(scales, axes):\n",
    "    ax.imshow(img, cmap='gray')\n",
    "\n",
    "    step_x = scale_x // 4 * 3\n",
    "    step_y = scale_y // 4 * 3\n",
    "    \n",
    "    for y in range(0, img.shape[0] - scale_y + 1, step_y):\n",
    "        for x in range(0, img.shape[1] - scale_x + 1, step_x):\n",
    "            rect = plt.Rectangle((x, y), scale_x, scale_y, edgecolor='blue', facecolor='none')\n",
    "            ax.add_patch(rect)\n",
    "\n",
    "plt.show()"
   ]
  },
  {
   "cell_type": "code",
   "execution_count": null,
   "metadata": {},
   "outputs": [],
   "source": [
    "\n"
   ]
  },
  {
   "cell_type": "code",
   "execution_count": null,
   "metadata": {},
   "outputs": [],
   "source": [
    "import skimage\n",
    "from support.bounding_boxes import draw_bounding_boxes\n",
    "import numpy as np\n",
    "import matplotlib.pyplot as plt\n",
    "\n",
    "img = skimage.io.imread('images/Items.jpg')[:,:,1]\n",
    "print(img.shape)\n",
    "scales = [(0.8, 8), (0.6, 8), (0.5, 8), (0.4, 8)]\n",
    "\n",
    "score_threshold = 0.1\n",
    "\n",
    "\n",
    "plt.imshow(img < 64, cmap='gray')\n",
    "plt.show()\n",
    "# calculate score per rectangle\n",
    "def score(rect, img):\n",
    "    x, y, w, h = rect\n",
    "    patch = img[y:y+h, x:x+w]\n",
    "    return np.mean(patch < 64)\n",
    "\n",
    "# add rectangle over whole image for initalization\n",
    "rects_with_object = [(0, 0, img.shape[1], img.shape[0])]\n",
    "scored_rectangles = dict()\n",
    "\n",
    "for scale, stride in scales:\n",
    "    # create patches of image with scale\n",
    "    height = int(img.shape[0] * scale)\n",
    "    width = int(img.shape[1] * scale)\n",
    "    new_rectangles = []\n",
    "    stride_x = width // stride\n",
    "    stride_y = height // stride\n",
    "    for rect in rects_with_object:\n",
    "        x_o, y_o, w_o, h_o = rect\n",
    "\n",
    "        # get roi rectangle coordinates for current rectangle\n",
    "        for x in range(x_o, x_o + w_o - width + 1, stride_x):\n",
    "            for y in range(y_o, y_o + h_o - height + 1, stride_y):\n",
    "                # calculate score\n",
    "                s = score(rect, img)\n",
    "                if s > score_threshold:\n",
    "                    new_rectangles.append((x, y, width, height))\n",
    "                    scored_rectangles[rect] = s\n",
    "    rects_with_object = new_rectangles\n",
    "    # plot rectangles on image\n",
    "    plt.imshow(img, cmap='gray')\n",
    "    draw_bounding_boxes(new_rectangles)\n",
    "    \n",
    "    plt.show()\n"
   ]
  },
  {
   "cell_type": "code",
   "execution_count": null,
   "metadata": {},
   "outputs": [],
   "source": [
    "from support.bounding_boxes import non_maximum_suppression, draw_bounding_boxes\n",
    "\n",
    "iou_threshold = 0.3\n",
    "\n",
    "# do NMS over rectangles\n",
    "\n",
    "\n",
    "# apply NMS\n",
    "rects_with_object = non_maximum_suppression(scored_rectangles, overlap_threshold=iou_threshold)\n",
    "\n",
    "plt.imshow(img, cmap='gray')\n",
    "draw_bounding_boxes(rects_with_object)\n",
    "plt.show()"
   ]
  },
  {
   "cell_type": "code",
   "execution_count": null,
   "metadata": {},
   "outputs": [],
   "source": [
    "import skimage\n",
    "from skimage.morphology import erosion, dilation, disk\n",
    "import numpy as np\n",
    "from support.bounding_boxes import draw_bounding_boxes, create_bounding_boxes\n",
    "\n",
    "img = skimage.io.imread('images/Items.jpg')[:,:, :3]\n",
    "\n",
    "plt.imshow(img)\n",
    "plt.show()\n",
    "\n",
    "# convert to grayscale\n",
    "img = skimage.color.rgb2gray(img)\n",
    "\n",
    "plt.imshow(img, cmap='gray')\n",
    "plt.show()\n",
    "\n",
    "img = skimage.util.crop(img, ((300, 300), (300, 50)))\n",
    "\n",
    "plt.imshow(img, cmap='gray')\n",
    "plt.show()\n",
    "\n",
    "# scale image\n",
    "img = skimage.transform.resize(img, (250, 400))\n",
    "\n",
    "plt.imshow(img, cmap='gray')\n",
    "plt.show()\n",
    "\n",
    "mask = img < 0.5\n",
    "\n",
    "plt.imshow(mask, cmap='gray')\n",
    "plt.show()\n",
    "\n",
    "labels = skimage.measure.label(mask)\n",
    "plt.imshow(labels, cmap='tab20')\n",
    "plt.show()\n",
    "\n",
    "rectangles = create_bounding_boxes(labels)\n",
    "\n",
    "\n",
    "draw_bounding_boxes(rectangles)\n",
    "plt.imshow(labels, cmap='tab20')\n",
    "plt.show()"
   ]
  },
  {
   "cell_type": "code",
   "execution_count": null,
   "metadata": {},
   "outputs": [],
   "source": [
    "rectangles"
   ]
  },
  {
   "cell_type": "code",
   "execution_count": null,
   "metadata": {},
   "outputs": [],
   "source": []
  },
  {
   "cell_type": "code",
   "execution_count": null,
   "metadata": {},
   "outputs": [],
   "source": [
    "img = skimage.io.imread('images/Items.jpg')[:,:,1]\n",
    "img = skimage.util.crop(img, ((400, 1600), (800, 2350)))\n",
    "for t in [16, 32, 64, 80]:\n",
    "    filled = skimage.segmentation.flood_fill(img, (img.shape[0] // 2, img.shape[1] // 2), 255, tolerance = t)\n",
    "    plt.imshow(filled, cmap='gray')\n",
    "    plt.show()\n"
   ]
  }
 ],
 "metadata": {
  "kernelspec": {
   "display_name": "Python 3",
   "language": "python",
   "name": "python3"
  },
  "language_info": {
   "codemirror_mode": {
    "name": "ipython",
    "version": 3
   },
   "file_extension": ".py",
   "mimetype": "text/x-python",
   "name": "python",
   "nbconvert_exporter": "python",
   "pygments_lexer": "ipython3",
   "version": "3.11.3"
  }
 },
 "nbformat": 4,
 "nbformat_minor": 2
}
