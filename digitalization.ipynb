{
 "cells": [
  {
   "cell_type": "code",
   "execution_count": null,
   "metadata": {
    "vscode": {
     "languageId": "bat"
    }
   },
   "outputs": [],
   "source": [
    "pip install -r requirements.txt"
   ]
  },
  {
   "cell_type": "code",
   "execution_count": 65,
   "metadata": {},
   "outputs": [],
   "source": [
    "import skimage\n",
    "import matplotlib.pyplot as plt\n",
    "import numpy as np\n",
    "from matplotlib.colors import LightSource\n",
    "from matplotlib import cm\n",
    "from support import plot\n",
    "\n",
    "#load image\n",
    "z = skimage.io.imread('images/banana.png') / 255.0\n"
   ]
  },
  {
   "cell_type": "code",
   "execution_count": null,
   "metadata": {},
   "outputs": [],
   "source": [
    "nrows, ncols, n_channels = z.shape\n",
    "x = np.linspace(0., 1., ncols)\n",
    "y = np.linspace(0., 1., nrows)\n",
    "x, y = np.meshgrid(x, y)\n",
    "\n",
    "\n",
    "# Set up plot\n",
    "fig, ax = plt.subplots(subplot_kw=dict(projection='3d'))\n",
    "\n",
    "bins = 8\n",
    "img = np.digitize(z, np.linspace(0., 1., bins)) * 256 // bins\n",
    "surf = ax.plot_surface(x, y, 256 - img[:,:,0], rstride=1, cstride=1, cmap=cm.coolwarm,\n",
    "                       linewidth=0, antialiased=False, shade=True)\n",
    "\n",
    "plt.show()"
   ]
  },
  {
   "cell_type": "code",
   "execution_count": null,
   "metadata": {},
   "outputs": [],
   "source": [
    "plt.imshow(z[::20,::20, 0], cmap=cm.coolwarm)"
   ]
  },
  {
   "cell_type": "code",
   "execution_count": null,
   "metadata": {},
   "outputs": [],
   "source": [
    "bins = 8\n",
    "img = np.digitize(z[::20,::20, :], np.linspace(0., 1., bins)) * 256 // bins\n",
    "plt.imshow(img)\n"
   ]
  },
  {
   "cell_type": "code",
   "execution_count": null,
   "metadata": {},
   "outputs": [],
   "source": [
    "bins = np.linspace(0., 1., 16)\n",
    "nums = np.linspace(0., 1., 1000)\n",
    "plt.plot(nums, np.digitize(nums ** 2, bins))"
   ]
  },
  {
   "cell_type": "code",
   "execution_count": null,
   "metadata": {},
   "outputs": [],
   "source": [
    "plt.imshow(z)"
   ]
  },
  {
   "cell_type": "code",
   "execution_count": null,
   "metadata": {},
   "outputs": [],
   "source": [
    "z = skimage.io.imread('images/banana.png')\n",
    "int_repr = z[:,:,0] * 2 ** 16 + z[:,:,1] * 2 ** 8 + z[:,:,2]\n",
    "# convert uint array back to color channel bytes\n",
    "byte_repr = np.zeros((nrows, ncols, 3), dtype=np.uint8)\n",
    "int_repr += 100\n",
    "byte_repr[:,:,0] = int_repr // 2 ** 16\n",
    "byte_repr[:,:,1] = (int_repr % 2 ** 16) // 2 ** 8\n",
    "byte_repr[:,:,2] = int_repr % 2 ** 8\n",
    "plt.imshow(byte_repr)"
   ]
  },
  {
   "cell_type": "code",
   "execution_count": null,
   "metadata": {},
   "outputs": [],
   "source": [
    "img = skimage.io.imread('images/banana.png')\n",
    "img = skimage.color.rgba2rgb(img)\n",
    "img = skimage.color.rgb2gray(img)\n",
    "plt.imshow(img)"
   ]
  },
  {
   "cell_type": "code",
   "execution_count": null,
   "metadata": {},
   "outputs": [],
   "source": [
    "plt.hist(np.reshape(img * 256, [-1]), bins=256, range=(0, 256), histtype='step', density=True)"
   ]
  },
  {
   "cell_type": "code",
   "execution_count": null,
   "metadata": {},
   "outputs": [],
   "source": [
    "img2 = np.maximum(img - 0.5, 0)\n",
    "plt.hist(np.reshape(img2 * 256, [-1]), bins=256, range=(0, 256), histtype='step', density=True)\n",
    "plt.show()\n",
    "plt.imshow(img2, cmap = 'grey', vmax=1.)"
   ]
  },
  {
   "cell_type": "code",
   "execution_count": null,
   "metadata": {},
   "outputs": [],
   "source": [
    "img3 = img2 * 2\n",
    "plt.hist(np.reshape(img3 * 256, [-1]), bins=256, range=(0, 256), histtype='step', density=True)\n",
    "plt.show()\n",
    "plt.imshow(img3, cmap = 'grey', vmax=1.)"
   ]
  }
 ],
 "metadata": {
  "kernelspec": {
   "display_name": "Python 3",
   "language": "python",
   "name": "python3"
  },
  "language_info": {
   "codemirror_mode": {
    "name": "ipython",
    "version": 3
   },
   "file_extension": ".py",
   "mimetype": "text/x-python",
   "name": "python",
   "nbconvert_exporter": "python",
   "pygments_lexer": "ipython3",
   "version": "3.11.3"
  }
 },
 "nbformat": 4,
 "nbformat_minor": 2
}
