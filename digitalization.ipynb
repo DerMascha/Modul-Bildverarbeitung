{
 "cells": [
  {
   "cell_type": "code",
   "execution_count": null,
   "metadata": {
    "vscode": {
     "languageId": "bat"
    }
   },
   "outputs": [],
   "source": [
    "pip install -r requirements.txt"
   ]
  },
  {
   "cell_type": "code",
   "execution_count": null,
   "metadata": {},
   "outputs": [],
   "source": [
    "import skimage\n",
    "import matplotlib.pyplot as plt\n",
    "import numpy as np\n",
    "from matplotlib.colors import LightSource\n",
    "from matplotlib import cm\n",
    "from support import plot\n",
    "\n",
    "#load image\n",
    "z = skimage.io.imread('images/banana.png') / 255.0\n"
   ]
  },
  {
   "cell_type": "code",
   "execution_count": null,
   "metadata": {},
   "outputs": [],
   "source": [
    "nrows, ncols, n_channels = z.shape\n",
    "x = np.linspace(0., 1., ncols)\n",
    "y = np.linspace(0., 1., nrows)\n",
    "x, y = np.meshgrid(x, y)\n",
    "\n",
    "\n",
    "# Set up plot\n",
    "fig, ax = plt.subplots(subplot_kw=dict(projection='3d'))\n",
    "\n",
    "bins = 8\n",
    "img = np.digitize(z, np.linspace(0., 1., bins)) * 256 // bins\n",
    "surf = ax.plot_surface(x, y, 256 - img[:,:,0], rstride=1, cstride=1, cmap=cm.coolwarm,\n",
    "                       linewidth=0, antialiased=False, shade=True)\n",
    "\n",
    "plt.show()"
   ]
  },
  {
   "cell_type": "code",
   "execution_count": null,
   "metadata": {},
   "outputs": [],
   "source": [
    "plt.imshow(z[::20,::20, 0], cmap=cm.coolwarm)"
   ]
  },
  {
   "cell_type": "code",
   "execution_count": null,
   "metadata": {},
   "outputs": [],
   "source": [
    "bins = 8\n",
    "img = np.digitize(z[::20,::20, :], np.linspace(0., 1., bins)) * 256 // bins\n",
    "plt.imshow(img)\n"
   ]
  },
  {
   "cell_type": "code",
   "execution_count": null,
   "metadata": {},
   "outputs": [],
   "source": [
    "bins = np.linspace(0., 1., 16)\n",
    "nums = np.linspace(0., 1., 1000)\n",
    "plt.plot(nums, np.digitize(nums ** 2, bins))"
   ]
  },
  {
   "cell_type": "code",
   "execution_count": null,
   "metadata": {},
   "outputs": [],
   "source": [
    "plt.imshow(z)"
   ]
  },
  {
   "cell_type": "code",
   "execution_count": null,
   "metadata": {},
   "outputs": [],
   "source": [
    "z = skimage.io.imread('images/banana.png')\n",
    "int_repr = z[:,:,0] * 2 ** 16 + z[:,:,1] * 2 ** 8 + z[:,:,2]\n",
    "# convert uint array back to color channel bytes\n",
    "byte_repr = np.zeros((nrows, ncols, 3), dtype=np.uint8)\n",
    "int_repr += 100\n",
    "byte_repr[:,:,0] = int_repr // 2 ** 16\n",
    "byte_repr[:,:,1] = (int_repr % 2 ** 16) // 2 ** 8\n",
    "byte_repr[:,:,2] = int_repr % 2 ** 8\n",
    "plt.imshow(byte_repr)"
   ]
  },
  {
   "cell_type": "code",
   "execution_count": null,
   "metadata": {},
   "outputs": [],
   "source": [
    "img = skimage.io.imread('images/banana.png')\n",
    "img = skimage.color.rgba2rgb(img)\n",
    "img = skimage.color.rgb2gray(img)\n",
    "plt.imshow(img)"
   ]
  },
  {
   "cell_type": "code",
   "execution_count": null,
   "metadata": {},
   "outputs": [],
   "source": [
    "plt.hist(np.reshape(img * 256, [-1]), bins=256, range=(0, 256), histtype='step', density=True)"
   ]
  },
  {
   "cell_type": "code",
   "execution_count": null,
   "metadata": {},
   "outputs": [],
   "source": [
    "img2 = np.maximum(img - 0.5, 0)\n",
    "plt.hist(np.reshape(img2 * 256, [-1]), bins=256, range=(0, 256), histtype='step', density=True)\n",
    "plt.show()\n",
    "plt.imshow(img2, cmap = 'grey', vmax=1.)"
   ]
  },
  {
   "cell_type": "code",
   "execution_count": null,
   "metadata": {},
   "outputs": [],
   "source": [
    "img3 = img2 * 2\n",
    "plt.hist(np.reshape(img3 * 256, [-1]), bins=256, range=(0, 256), histtype='step', density=True)\n",
    "plt.show()\n",
    "plt.imshow(img3, cmap = 'grey', vmax=1.)"
   ]
  },
  {
   "cell_type": "code",
   "execution_count": null,
   "metadata": {},
   "outputs": [],
   "source": [
    "import skimage\n",
    "import numpy as np\n",
    "import numpy.typing as npt\n",
    "from support.bounding_boxes import draw_bounding_boxes, create_bounding_boxes\n",
    "import matplotlib.pyplot as plt\n",
    "from skimage.morphology import erosion, dilation, disk\n",
    "\n",
    "img = skimage.io.imread('images/gummibaerchen.jpg')\n",
    "\n",
    "# scale image\n",
    "img = skimage.transform.resize(img, (300, 400))\n",
    "\n",
    "plt.imshow(img)\n",
    "plt.show()\n",
    "\n",
    "chroma = np.max(img, axis=2) - np.min(img, axis=2)\n",
    "\n",
    "plt.imshow(chroma, cmap='gray')\n",
    "plt.show()\n",
    "\n",
    "hsv = skimage.color.rgb2hsv(img)\n",
    "\n",
    "hue, s, v = np.transpose(hsv, (2, 0, 1))\n",
    "\n",
    "cm = plt.cm.hsv\n",
    "\n",
    "n, bins, patches = plt.hist(np.reshape(hue, (-1,)), 25)\n",
    "for i, p in enumerate(patches):\n",
    "    plt.setp(p, 'facecolor', cm(i/25.)) # notice the i/25\n",
    "plt.show()\n",
    "\n",
    "mask = s > 0.32\n",
    "mask = dilation(mask, footprint = disk(2))\n",
    "\n",
    "fig, axes = plt.subplots(1, 3, figsize=(15, 5))\n",
    "axes[0].imshow(hue, cmap='hsv')\n",
    "axes[0].imshow(np.where( np.expand_dims(mask, -1), [0,0,0,0], [0,0,0,255]), cmap='gray')\n",
    "\n",
    "axes[1].imshow(s, cmap='gray')\n",
    "\n",
    "axes[2].imshow(v, cmap='gray')\n",
    "plt.show()\n",
    "\n",
    "\n",
    "segmentation = skimage.measure.label(mask, background=0)\n",
    "plt.imshow(segmentation, cmap='tab20')\n",
    "plt.show()\n",
    "\n",
    "rectangles = create_bounding_boxes(segmentation)\n",
    "\n",
    "def assign_label_color(hue: npt.NDArray[float], saturation: npt.NDArray[float]) -> str:\n",
    "    \"\"\"\n",
    "    Assigns a color label based on the hue and saturation values of an image.\n",
    "    Parameters:\n",
    "    hue (npt.NDArray[float]): An array of hue values.\n",
    "    saturation (npt.NDArray[float]): An array of saturation values.\n",
    "    Returns:\n",
    "    str: The assigned color label ('orange', 'yellow', 'green', or 'red').\n",
    "    \"\"\"\n",
    "    # only use pixels with high saturation\n",
    "    mask = saturation > 0.5\n",
    "    # get the hue values of the pixels in the rectangle\n",
    "    colors = hue[mask]\n",
    "    # white if no colors are found\n",
    "    if len(colors) < len(saturation) * 0.1:\n",
    "        return 'white'\n",
    "    # get the most frequent hue value\n",
    "    hue_value = np.bincount((colors * 50).astype(int)).argmax()\n",
    "    # assign a color based on the hue value\n",
    "    if hue_value <= 4:\n",
    "        return 'orange'\n",
    "    elif hue_value <= 6:\n",
    "        return 'yellow'\n",
    "    elif hue_value <= 10:\n",
    "        return 'green'\n",
    "    return 'red'\n",
    "\n",
    "labels = []\n",
    "for rect in rectangles:\n",
    "    x, y, w, h = rect\n",
    "    hue_rect = hue[y:y+h, x:x+w]\n",
    "    saturation_rect = s[y:y+h, x:x+w]\n",
    "    labels.append(assign_label_color(hue_rect, saturation_rect))\n",
    "\n",
    "draw_bounding_boxes(rectangles, labels)\n",
    "\n",
    "plt.imshow(img, cmap='tab20')\n",
    "plt.show()"
   ]
  },
  {
   "cell_type": "code",
   "execution_count": null,
   "metadata": {},
   "outputs": [],
   "source": [
    "plt.cm.hsv(0.7)"
   ]
  },
  {
   "cell_type": "code",
   "execution_count": null,
   "metadata": {},
   "outputs": [],
   "source": []
  }
 ],
 "metadata": {
  "kernelspec": {
   "display_name": "Python 3",
   "language": "python",
   "name": "python3"
  },
  "language_info": {
   "codemirror_mode": {
    "name": "ipython",
    "version": 3
   },
   "file_extension": ".py",
   "mimetype": "text/x-python",
   "name": "python",
   "nbconvert_exporter": "python",
   "pygments_lexer": "ipython3",
   "version": "3.11.3"
  }
 },
 "nbformat": 4,
 "nbformat_minor": 2
}
