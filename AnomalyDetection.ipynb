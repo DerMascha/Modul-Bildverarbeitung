{
 "cells": [
  {
   "cell_type": "code",
   "execution_count": null,
   "metadata": {},
   "outputs": [],
   "source": [
    "import skimage\n",
    "from support.plot import show_images\n",
    "import numpy as np\n",
    "import matplotlib.pyplot as plt\n",
    "img1 = skimage.io.imread('images/Dif1.jpg', as_gray=True)\n",
    "img2 = skimage.io.imread('images/Dif2.jpg', as_gray=True)\n",
    "img3 = skimage.io.imread('images/Dif3.jpg', as_gray=True)\n",
    "plt.imshow(img1, cmap='gray')\n",
    "plt.show()\n",
    "plt.imshow(img2, cmap='gray')\n",
    "plt.show()\n",
    "plt.imshow(img3, cmap='gray')\n"
   ]
  },
  {
   "cell_type": "code",
   "execution_count": null,
   "metadata": {},
   "outputs": [],
   "source": [
    "def crop_to_objects (img):\n",
    "    scaled = skimage.transform.resize(img, (1000, 1000))\n",
    "    mask = skimage.feature.canny(scaled , sigma=4)\n",
    "    plt.imshow(mask, cmap='gray')\n",
    "    plt.show()\n",
    "    # Getting the bounding box that contains all objects\n",
    "    cropped_object = scaled[np.min(np.where(mask)[0]):np.max(np.where(mask)[0]),\n",
    "                         np.min(np.where(mask)[1]):np.max(np.where(mask)[1])]\n",
    "    # scale to universal size 500x500\n",
    "    return skimage.transform.resize(cropped_object, (500, 500)) \n",
    "c_img1 = crop_to_objects(img1)\n",
    "c_img2 = crop_to_objects(img2)\n",
    "c_img3 = crop_to_objects(img3)\n",
    "plt.imshow(c_img1, cmap='gray')\n",
    "plt.show()\n",
    "plt.imshow(c_img2, cmap='gray')\n",
    "plt.show()\n",
    "plt.imshow(c_img3, cmap='gray')\n",
    "plt.show()"
   ]
  },
  {
   "cell_type": "code",
   "execution_count": null,
   "metadata": {},
   "outputs": [],
   "source": [
    "a = skimage.filters.gaussian(c_img1, sigma=10)\n",
    "b = skimage.filters.gaussian(c_img2, sigma=10)\n",
    "c = skimage.filters.gaussian(c_img3, sigma=10)\n",
    "plt.imshow((a - b) ** 2, cmap='gray')\n",
    "plt.show()\n",
    "plt.imshow((a - b) ** 2 > 0.01, cmap='gray')\n",
    "plt.show()\n",
    "plt.imshow((a - c) ** 2, cmap='gray')\n",
    "plt.show()\n",
    "plt.imshow(np.abs(a-b), cmap='gray')\n",
    "plt.show()"
   ]
  },
  {
   "cell_type": "code",
   "execution_count": null,
   "metadata": {},
   "outputs": [],
   "source": [
    "from support.bounding_boxes import create_bounding_boxes, draw_bounding_boxes\n",
    "mask = (a - b) ** 2 > 0.01\n",
    "rectangles = create_bounding_boxes(mask)\n",
    "plt.imshow(c_img2, cmap='gray')\n",
    "draw_bounding_boxes(rectangles)\n"
   ]
  },
  {
   "cell_type": "code",
   "execution_count": null,
   "metadata": {},
   "outputs": [],
   "source": [
    "skimage.metrics.peak_signal_noise_ratio(a, b)\n",
    "sim, grad = skimage.metrics.structural_similarity(a, b, gradient=True, data_range=1)\n",
    "plt.imshow(grad, cmap='gray')"
   ]
  },
  {
   "cell_type": "code",
   "execution_count": null,
   "metadata": {},
   "outputs": [],
   "source": [
    "# crop img2 to size of img1\n",
    "cropped = skimage.transform.resize(img2, img1.shape)\n",
    "plt.imshow((img1-cropped)**2, cmap='gray')"
   ]
  },
  {
   "cell_type": "code",
   "execution_count": null,
   "metadata": {},
   "outputs": [],
   "source": [
    "y = np.linspace(0, 1, 100)\n",
    "# normal distribution\n",
    "x = np.exp(-((y-0.5)**2)/(2*0.1**2))\n",
    "plt.plot(y,x)\n",
    "# show cdf\n",
    "plt.plot(y, np.cumsum(x)/ 25)"
   ]
  },
  {
   "cell_type": "code",
   "execution_count": null,
   "metadata": {},
   "outputs": [],
   "source": [
    "import numpy as np\n",
    "from sklearn.decomposition import PCA\n",
    "import tensorflow as tf\n",
    "\n",
    "data = tf.keras.datasets.mnist.load_data(\n",
    "    path='mnist.npz'\n",
    ")"
   ]
  },
  {
   "cell_type": "code",
   "execution_count": null,
   "metadata": {},
   "outputs": [],
   "source": [
    "train, test = data\n",
    "images, labels = train\n",
    "ones = images[labels == 1]\n",
    "plt.imshow(ones[0], cmap='gray')\n",
    "plt.show()\n",
    "pca = PCA(n_components=9)\n",
    "pca.fit(ones.reshape(-1, 28*28))\n",
    "plt.plot(pca.explained_variance_ratio_)"
   ]
  },
  {
   "cell_type": "code",
   "execution_count": null,
   "metadata": {},
   "outputs": [],
   "source": [
    "#Plot each component of test image with its PCA value\n",
    "test_images, test_labels = test\n",
    "test_ones = test_images[test_labels == 1]\n",
    "pca_values = pca.transform(test_ones.reshape(-1, 28*28))\n",
    "plt.imshow(test_ones[0], cmap='gray')\n",
    "plt.show()\n",
    "# create subplots in 4x4 grid\n",
    "fig, axs = plt.subplots(3, 3, figsize=(10, 10))\n",
    "# flatten the axs array\n",
    "axs = axs.flatten()\n",
    "for i, ax in enumerate(axs):\n",
    "    # set title for axis\n",
    "    ax.set_title(f'{pca_values[0, i]:.2f}')\n",
    "    ax.imshow(pca.components_[i].reshape(28, 28) * pca_values[0, i], cmap='gray', vmax=255, vmin = 0)\n",
    "plt.show()\n",
    "# show reconstrcution\n",
    "reconstructed = pca.inverse_transform(pca_values[0])\n",
    "plt.imshow(reconstructed.reshape(28, 28), cmap='gray', vmin=0, vmax=255)\n",
    "plt.show()"
   ]
  }
 ],
 "metadata": {
  "kernelspec": {
   "display_name": "Python 3",
   "language": "python",
   "name": "python3"
  },
  "language_info": {
   "codemirror_mode": {
    "name": "ipython",
    "version": 3
   },
   "file_extension": ".py",
   "mimetype": "text/x-python",
   "name": "python",
   "nbconvert_exporter": "python",
   "pygments_lexer": "ipython3",
   "version": "3.11.3"
  }
 },
 "nbformat": 4,
 "nbformat_minor": 2
}
