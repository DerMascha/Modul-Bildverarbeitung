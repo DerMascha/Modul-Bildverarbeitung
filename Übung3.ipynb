{
 "cells": [
  {
   "cell_type": "code",
   "execution_count": null,
   "metadata": {},
   "outputs": [],
   "source": [
    "# import libraries\n",
    "\n",
    "import skimage\n",
    "import numpy as np\n",
    "import matplotlib.pyplot as plt\n",
    "from skimage import filters, morphology, measure, feature, draw\n",
    "import matplotlib.pyplot as plt\n",
    "from support.bounding_boxes import draw_bounding_boxes, create_bounding_boxes\n",
    "# capture image with picam2\n",
    "from picamera2 import PiCamera2\n",
    "camera = PiCamera2()"
   ]
  },
  {
   "cell_type": "code",
   "execution_count": null,
   "metadata": {},
   "outputs": [],
   "source": [
    "camera.start()\n",
    "image = camera.capture_array()\n",
    "camera.stop()\n",
    "# take green channel\n",
    "image = image[:,:,1]\n",
    "plt.imshow(image, cmap='gray')\n",
    "plt.show()"
   ]
  },
  {
   "cell_type": "code",
   "execution_count": null,
   "metadata": {},
   "outputs": [],
   "source": [
    "# configure parameters\n",
    "\n",
    "t_rect_area = 200\n",
    "t_small_objects = 75\n",
    "canny_sigma = 0.5\n",
    "dilation_size = 25\n",
    "median_filter_size = 3\n",
    "\n",
    "plt.imshow(image > 0.2, cmap='gray')\n",
    "plt.show()\n",
    "\n",
    "# resize image\n",
    "img = skimage.transform.resize(image, (300, 350))\n",
    "plt.imshow(img, cmap='gray')\n",
    "plt.show()\n",
    "\n",
    "# use median filter\n",
    "img = filters.median(img, np.ones((median_filter_size, median_filter_size)))\n",
    "plt.imshow(img, cmap='gray')\n",
    "plt.show()\n",
    "\n",
    "# capture edges with canny edge detector\n",
    "edges = feature.canny(img, canny_sigma)\n",
    "plt.imshow(edges, cmap='gray')\n",
    "plt.show()\n",
    "\n",
    "# dilate image\n",
    "dilated = morphology.dilation(edges, np.ones((3,3)))\n",
    "plt.imshow(dilated, cmap='gray')\n",
    "plt.show()\n",
    "\n",
    "# use flooding algorithm to label connected components\n",
    "labels = measure.label(np.logical_not(dilated))\n",
    "plt.imshow(labels, cmap='tab20')\n",
    "plt.show()\n",
    "\n",
    "# remove small objects\n",
    "labels = morphology.remove_small_objects(labels, t_small_objects)\n",
    "rectangles = create_bounding_boxes(labels)\n",
    "draw_bounding_boxes(rectangles)\n",
    "plt.imshow(labels, cmap='tab20')\n",
    "plt.show()\n",
    "\n",
    "# remove all small rectangles\n",
    "rectangles = [rect for rect in rectangles if rect[2] * rect[3] > t_rect_area]\n",
    "draw_bounding_boxes(rectangles)\n",
    "plt.imshow(img, cmap='gray')\n",
    "plt.show()"
   ]
  }
 ],
 "metadata": {
  "kernelspec": {
   "display_name": "Python 3",
   "language": "python",
   "name": "python3"
  },
  "language_info": {
   "name": "python",
   "version": "3.11.3"
  }
 },
 "nbformat": 4,
 "nbformat_minor": 2
}
